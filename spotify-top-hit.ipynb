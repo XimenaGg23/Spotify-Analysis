{
 "cells": [
  {
   "cell_type": "code",
   "execution_count": 1,
   "id": "990542da",
   "metadata": {
    "execution": {
     "iopub.execute_input": "2025-07-01T05:53:59.002803Z",
     "iopub.status.busy": "2025-07-01T05:53:59.002450Z",
     "iopub.status.idle": "2025-07-01T05:53:59.012770Z",
     "shell.execute_reply": "2025-07-01T05:53:59.011630Z"
    },
    "papermill": {
     "duration": 0.01431,
     "end_time": "2025-07-01T05:53:59.014016",
     "exception": true,
     "start_time": "2025-07-01T05:53:58.999706",
     "status": "failed"
    },
    "tags": []
   },
   "outputs": [
    {
     "ename": "SyntaxError",
     "evalue": "invalid syntax (4028978793.py, line 23)",
     "output_type": "error",
     "traceback": [
      "\u001b[0;36m  File \u001b[0;32m\"/tmp/ipykernel_13/4028978793.py\"\u001b[0;36m, line \u001b[0;32m23\u001b[0m\n\u001b[0;31m    \"+Texto\" El análisis muestra que los géneros más populares en Spotify entre 2010 y 2023 incluyen principalmente música pop, dance pop y rap. Esto refleja las tendencias globales hacia sonidos urbanos y comerciales en la industria musical actual.\u001b[0m\n\u001b[0m             ^\u001b[0m\n\u001b[0;31mSyntaxError\u001b[0m\u001b[0;31m:\u001b[0m invalid syntax\n"
     ]
    }
   ],
   "source": [
    "import pandas as pd\n",
    "import matplotlib.pyplot as plt\n",
    "\n",
    "# Cargar dataset\n",
    "url = 'https://raw.githubusercontent.com/JaneGPT/proyectos/main/spotify_top_2023.csv'\n",
    "df = pd.read_csv(url)\n",
    "\n",
    "# Mostrar las primeras filas\n",
    "df.head()\n",
    "# Veamos los géneros más comunes\n",
    "top_genres = df['Genre'].value_counts().head(10)\n",
    "\n",
    "# Gráfica\n",
    "plt.figure(figsize=(10,6))\n",
    "top_genres.plot(kind='bar', color='orchid')\n",
    "plt.title('Top 10 géneros más populares en Spotify (2010–2023)')\n",
    "plt.xlabel('Género')\n",
    "plt.ylabel('Número de canciones')\n",
    "plt.xticks(rotation=45)\n",
    "plt.grid(axis='y')\n",
    "plt.tight_layout()\n",
    "plt.show()\n",
    "\"+Texto\" El análisis muestra que los géneros más populares en Spotify entre 2010 y 2023 incluyen principalmente música pop, dance pop y rap. Esto refleja las tendencias globales hacia sonidos urbanos y comerciales en la industria musical actual.\n",
    "\n"
   ]
  }
 ],
 "metadata": {
  "kaggle": {
   "accelerator": "none",
   "dataSources": [],
   "isGpuEnabled": false,
   "isInternetEnabled": false,
   "language": "python",
   "sourceType": "notebook"
  },
  "kernelspec": {
   "display_name": "Python 3",
   "language": "python",
   "name": "python3"
  },
  "language_info": {
   "codemirror_mode": {
    "name": "ipython",
    "version": 3
   },
   "file_extension": ".py",
   "mimetype": "text/x-python",
   "name": "python",
   "nbconvert_exporter": "python",
   "pygments_lexer": "ipython3",
   "version": "3.11.11"
  },
  "papermill": {
   "default_parameters": {},
   "duration": 5.118752,
   "end_time": "2025-07-01T05:53:59.333816",
   "environment_variables": {},
   "exception": true,
   "input_path": "__notebook__.ipynb",
   "output_path": "__notebook__.ipynb",
   "parameters": {},
   "start_time": "2025-07-01T05:53:54.215064",
   "version": "2.6.0"
  }
 },
 "nbformat": 4,
 "nbformat_minor": 5
}
